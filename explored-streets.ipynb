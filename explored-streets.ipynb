{
 "cells": [
  {
   "cell_type": "markdown",
   "metadata": {},
   "source": [
    "# Highlight which streets have been explored "
   ]
  },
  {
   "cell_type": "code",
   "execution_count": null,
   "metadata": {},
   "outputs": [],
   "source": [
    "# import networkx as nx\n",
    "import osmnx as ox\n",
    "import pandas as pd\n",
    "import numpy as np\n",
    "\n",
    "ox.__version__"
   ]
  },
  {
   "cell_type": "markdown",
   "metadata": {},
   "source": [
    "# Inputs and Definitions"
   ]
  },
  {
   "cell_type": "code",
   "execution_count": null,
   "metadata": {},
   "outputs": [],
   "source": [
    "INPUT_ADDRESS = \"London, UK\"\n",
    "INPUT_DISTANCE_AROUND_ADDRESS = 1000 # metres\n",
    "INPUT_GOOGLE_LOCATION_JSON_FILE = \"data/LocationHistory/Records.json\" # Visit https://takeout.google.com to download a json of location history\n",
    "\n",
    "THRESHOLD_FOR_VISITED_EDGE = 0.1  # metres. If any google location coordinate is found this close to an OSM edge, it will be marked visited"
   ]
  },
  {
   "cell_type": "markdown",
   "metadata": {},
   "source": [
    "# Get OSMNX graph of area"
   ]
  },
  {
   "cell_type": "code",
   "execution_count": null,
   "metadata": {},
   "outputs": [],
   "source": [
    "# download/model a street network for some city then visualize it\n",
    "G = ox.graph_from_address(\n",
    "    INPUT_ADDRESS, network_type=\"all\", dist=INPUT_DISTANCE_AROUND_ADDRESS\n",
    ")\n",
    "\n",
    "node_lats = [n[1][\"y\"] for n in G.nodes(data=True)]\n",
    "node_lons = [n[1][\"x\"] for n in G.nodes(data=True)]\n",
    "gps_bounds = {\n",
    "    \"min_lat\": min(node_lats),\n",
    "    \"max_lat\": max(node_lats),\n",
    "    \"min_lon\": min(node_lons),\n",
    "    \"max_lon\": max(node_lons),\n",
    "}"
   ]
  },
  {
   "cell_type": "markdown",
   "metadata": {},
   "source": [
    "# Load google location history"
   ]
  },
  {
   "cell_type": "code",
   "execution_count": null,
   "metadata": {},
   "outputs": [],
   "source": [
    "df_gps = pd.read_json(INPUT_GOOGLE_LOCATION_JSON_FILE)\n",
    "\n",
    "# parse lat, lon, and timestamp from the dict inside the locations column\n",
    "df_gps[\"lat\"] = df_gps[\"locations\"].map(lambda x: x[\"latitudeE7\"])\n",
    "df_gps[\"lon\"] = df_gps[\"locations\"].map(lambda x: x[\"longitudeE7\"])\n",
    "df_gps[\"datetime\"] = df_gps[\"locations\"].map(lambda x: x[\"timestamp\"])\n",
    "\n",
    "# convert lat/lon to decimalized degrees\n",
    "df_gps[\"lat\"] = df_gps[\"lat\"] / 10.0**7\n",
    "df_gps[\"lon\"] = df_gps[\"lon\"] / 10.0**7\n",
    "\n",
    "# drop columns we don't need\n",
    "df_gps = df_gps.drop(labels=[\"locations\"], axis=1, inplace=False)\n",
    "\n",
    "# exclude points outside of our min/max bounds\n",
    "df_gps = df_gps.drop(df_gps[df_gps.lat < gps_bounds[\"min_lat\"]].index)\n",
    "df_gps = df_gps.drop(df_gps[df_gps.lat > gps_bounds[\"max_lat\"]].index)\n",
    "df_gps = df_gps.drop(df_gps[df_gps.lon < gps_bounds[\"min_lon\"]].index)\n",
    "df_gps = df_gps.drop(df_gps[df_gps.lon > gps_bounds[\"max_lon\"]].index)\n",
    "\n",
    "# save date range for future printing\n",
    "date_range = \"{}-{}\".format(df_gps[\"datetime\"].min()[:4], df_gps[\"datetime\"].max()[:4])"
   ]
  },
  {
   "cell_type": "markdown",
   "metadata": {},
   "source": [
    "# Colour streets that have been visited"
   ]
  },
  {
   "cell_type": "code",
   "execution_count": null,
   "metadata": {},
   "outputs": [],
   "source": [
    "# Get the nearest edges per point\n",
    "nearest_edges, nearest_edges_distances = ox.nearest_edges(\n",
    "    G, df_gps[\"lon\"].to_list(), df_gps[\"lat\"].to_list(), return_dist=True\n",
    ")\n",
    "\n",
    "# Keep only the edges within threshold\n",
    "visited_indices = np.array(nearest_edges_distances) < THRESHOLD_FOR_VISITED_EDGE\n",
    "visited_edges = np.array(nearest_edges)[visited_indices]\n",
    "visited_edges = set([tuple(x) for x in visited_edges[:, 0:2].tolist()])\n",
    "\n",
    "# Drop unvisited edges\n",
    "unvisited_edges = [(u,v,k) for u,v,k in G.edges(keys=True) if (u,v) not in visited_edges]\n",
    "G.remove_edges_from(unvisited_edges)\n"
   ]
  },
  {
   "cell_type": "code",
   "execution_count": null,
   "metadata": {},
   "outputs": [],
   "source": [
    "gdf = ox.graph_to_gdfs(G, nodes=False)\n",
    "\n",
    "\n",
    "print(f\"Streets visited {INPUT_DISTANCE_AROUND_ADDRESS} metres around {INPUT_ADDRESS}, {date_range}\")\n",
    "# gdf.plot() # static\n",
    "gdf.explore() # interactive"
   ]
  }
 ],
 "metadata": {
  "kernelspec": {
   "display_name": "google-maps-timeline",
   "language": "python",
   "name": "python3"
  },
  "language_info": {
   "codemirror_mode": {
    "name": "ipython",
    "version": 3
   },
   "file_extension": ".py",
   "mimetype": "text/x-python",
   "name": "python",
   "nbconvert_exporter": "python",
   "pygments_lexer": "ipython3",
   "version": "3.12.1"
  }
 },
 "nbformat": 4,
 "nbformat_minor": 2
}
